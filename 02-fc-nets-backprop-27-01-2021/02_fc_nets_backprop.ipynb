{
 "cells": [
  {
   "cell_type": "code",
   "execution_count": 1,
   "metadata": {
    "id": "jeJWounsqhpY"
   },
   "outputs": [],
   "source": [
    "import numpy as np \n",
    "import _pickle as cPickle\n",
    "import gzip\n",
    "import os\n",
    "from sklearn.utils import shuffle\n",
    "from tqdm import tqdm"
   ]
  },
  {
   "cell_type": "code",
   "execution_count": 2,
   "metadata": {
    "id": "D7VXd_waqhpl"
   },
   "outputs": [],
   "source": [
    "# utility functions\n",
    "\n",
    "def one_hot_encoded(y, num_class):\n",
    "    n = y.shape[0]\n",
    "    onehot = np.zeros((n, num_class), dtype=\"int32\")\n",
    "    for i in range(n):\n",
    "        idx = y[i]\n",
    "        onehot[i][idx] = 1\n",
    "    return onehot\n",
    "\n",
    "\n",
    "def check_accuracy(y_true, y_pred):\n",
    "    return np.mean(y_pred == y_true)  # both are not one hot encoded\n",
    "\n",
    "\n",
    "def softmax(x):\n",
    "    # софтмакс сделан более устойчивым с помощью вычитания np.max\n",
    "    exp_x = np.exp(x - np.max(x, axis=1, keepdims=True))\n",
    "    return exp_x / np.sum(exp_x, axis=1, keepdims=True)\n",
    "\n",
    "\n",
    "# l2 regularization\n",
    "def l2_reg(layers, lam=0.001):\n",
    "    reg_loss = 0.0\n",
    "    for layer in layers:\n",
    "        if hasattr(layer, 'W'):\n",
    "            reg_loss += 0.5 * lam * np.sum(layer.W * layer.W)\n",
    "    return reg_loss\n",
    "\n",
    "\n",
    "# l2 regularization grad\n",
    "def delta_l2_reg(layers, grads, lam=0.001):\n",
    "    for layer, grad in zip(layers, reversed(grads)):\n",
    "        if hasattr(layer, 'W'):\n",
    "            grad[0] += lam * layer.W\n",
    "    return grads"
   ]
  },
  {
   "cell_type": "code",
   "execution_count": 3,
   "metadata": {
    "id": "gepenqShqhpn"
   },
   "outputs": [],
   "source": [
    "# функция для проверки грандиентов\n",
    "def eval_numerical_gradient(f, x, verbose=False, h=0.00001):\n",
    "    \"\"\"Evaluates gradient df/dx via finite differences:\n",
    "    df/dx ~ (f(x+h) - f(x-h)) / 2h\n",
    "    Adopted from https://github.com/ddtm/dl-course/\n",
    "    \"\"\"\n",
    "    fx = f(x) # evaluate function value at original point\n",
    "    grad = np.zeros_like(x)\n",
    "    # iterate over all indexes in x\n",
    "    it = np.nditer(x, flags=['multi_index'], op_flags=['readwrite'])\n",
    "    while not it.finished:\n",
    "        # evaluate function at x+h\n",
    "        ix = it.multi_index\n",
    "        oldval = x[ix]\n",
    "        x[ix] = oldval + h # increment by h\n",
    "        fxph = f(x) # evalute f(x + h)\n",
    "        x[ix] = oldval - h\n",
    "        fxmh = f(x) # evaluate f(x - h)\n",
    "        x[ix] = oldval # restore\n",
    "\n",
    "        # compute the partial derivative with centered formula\n",
    "        grad[ix] = (fxph - fxmh) / (2 * h) # the slope\n",
    "        if verbose:\n",
    "            print (ix, grad[ix])\n",
    "        it.iternext() # step to next dimension\n",
    "\n",
    "    return grad"
   ]
  },
  {
   "cell_type": "code",
   "execution_count": 4,
   "metadata": {
    "id": "aNH3LoYVqhpq"
   },
   "outputs": [],
   "source": [
    "# dout - upstream gradient\n",
    "# gradInput - upstream_gradient*local_gradient\n",
    "# forward = ReLU(X)\n",
    "class ReLU():\n",
    "    def __init__(self):\n",
    "        self.params = []\n",
    "        self.gradInput = None\n",
    "\n",
    "    def forward(self, X, mode):\n",
    "        self.X = X\n",
    "        return np.maximum(X, 0)\n",
    "\n",
    "    def backward(self, dout, mode):\n",
    "        self.gradInput = dout.copy()\n",
    "        self.gradInput[self.X <= 0] = 0\n",
    "        return self.gradInput, []"
   ]
  },
  {
   "cell_type": "code",
   "execution_count": 5,
   "metadata": {
    "colab": {
     "base_uri": "https://localhost:8080/"
    },
    "id": "jsQb5bWBqhps",
    "outputId": "51a99084-e40b-4311-e101-3dcf57717a33"
   },
   "outputs": [
    {
     "name": "stdout",
     "output_type": "stream",
     "text": [
      "[[0. 0. 0. 0. 0. 0. 0. 0. 0. 0. 0. 0.]\n",
      " [0. 0. 0. 0. 0. 0. 0. 0. 0. 0. 0. 0.]\n",
      " [0. 0. 0. 0. 0. 0. 0. 0. 0. 0. 0. 0.]\n",
      " [0. 0. 0. 0. 0. 0. 0. 0. 0. 0. 0. 0.]\n",
      " [0. 0. 0. 0. 0. 0. 0. 0. 0. 0. 0. 0.]\n",
      " [1. 1. 1. 1. 1. 1. 1. 1. 1. 1. 1. 1.]\n",
      " [1. 1. 1. 1. 1. 1. 1. 1. 1. 1. 1. 1.]\n",
      " [1. 1. 1. 1. 1. 1. 1. 1. 1. 1. 1. 1.]\n",
      " [1. 1. 1. 1. 1. 1. 1. 1. 1. 1. 1. 1.]\n",
      " [1. 1. 1. 1. 1. 1. 1. 1. 1. 1. 1. 1.]]\n"
     ]
    }
   ],
   "source": [
    "points = np.linspace(-1, 1, 10*12).reshape([10, 12])\n",
    "relu = ReLU()\n",
    "f = lambda x: relu.forward(x, mode='train').sum(axis=1).sum()\n",
    "res = f(points)\n",
    "numeric_grads = eval_numerical_gradient(f, points)\n",
    "print(numeric_grads)\n",
    "inp_grad = np.ones(shape=(10, 12))\n",
    "grads = relu.backward(inp_grad, mode='train')[0]\n",
    "assert np.allclose(grads, numeric_grads, rtol=1e-3, atol=0)"
   ]
  },
  {
   "cell_type": "code",
   "execution_count": 7,
   "metadata": {
    "id": "t7FTFIqDqhpw"
   },
   "outputs": [],
   "source": [
    "# Xavier init - input dispersion is similar to output dispersion\n",
    "# for convergence\n",
    "# \n",
    "class Linear():\n",
    "    def __init__(self, in_size, out_size):\n",
    "        # Xavier init\n",
    "        self.W = np.random.randn(in_size, out_size) / np.sqrt(in_size + out_size/ 2.)\n",
    "        self.b = np.zeros((1, out_size))\n",
    "        self.params = [self.W, self.b]\n",
    "        self.gradW = None\n",
    "        self.gradB = None\n",
    "        self.gradInput = None\n",
    "\n",
    "    def forward(self, X, mode):\n",
    "        self.X = X\n",
    "        out = self.X.dot(self.W) + self.b\n",
    "        return out\n",
    "\n",
    "    def backward(self, dout, mode):\n",
    "        self.gradW = self.X.T.dot(dout)\n",
    "        self.gradB = np.mean(dout, axis=0)\n",
    "        self.gradInput = dout.dot(self.W.T)\n",
    "        return self.gradInput, [self.gradW, self.gradB]"
   ]
  },
  {
   "cell_type": "code",
   "execution_count": 8,
   "metadata": {
    "colab": {
     "base_uri": "https://localhost:8080/"
    },
    "id": "c-83NwDBqhpy",
    "outputId": "4ff7326d-1771-42af-b34e-c2353629f20a"
   },
   "outputs": [
    {
     "name": "stdout",
     "output_type": "stream",
     "text": [
      "[[-7.51130580e-04  6.14180038e-01  2.11436234e-01  2.22470347e-01\n",
      "  -1.84192922e-01  7.54657708e-01  8.95621202e-02  1.29161640e-01\n",
      "   6.29682943e-01 -2.48729555e-01 -2.31738277e-01 -1.00379699e+00]\n",
      " [-7.51130580e-04  6.14180038e-01  2.11436234e-01  2.22470347e-01\n",
      "  -1.84192922e-01  7.54657708e-01  8.95621202e-02  1.29161640e-01\n",
      "   6.29682943e-01 -2.48729555e-01 -2.31738277e-01 -1.00379699e+00]\n",
      " [-7.51130580e-04  6.14180038e-01  2.11436234e-01  2.22470347e-01\n",
      "  -1.84192922e-01  7.54657708e-01  8.95621202e-02  1.29161640e-01\n",
      "   6.29682943e-01 -2.48729555e-01 -2.31738277e-01 -1.00379699e+00]\n",
      " [-7.51130580e-04  6.14180038e-01  2.11436234e-01  2.22470347e-01\n",
      "  -1.84192922e-01  7.54657708e-01  8.95621202e-02  1.29161640e-01\n",
      "   6.29682943e-01 -2.48729555e-01 -2.31738277e-01 -1.00379699e+00]\n",
      " [-7.51130580e-04  6.14180038e-01  2.11436234e-01  2.22470347e-01\n",
      "  -1.84192922e-01  7.54657708e-01  8.95621202e-02  1.29161640e-01\n",
      "   6.29682943e-01 -2.48729555e-01 -2.31738277e-01 -1.00379699e+00]\n",
      " [-7.51130558e-04  6.14180038e-01  2.11436234e-01  2.22470347e-01\n",
      "  -1.84192922e-01  7.54657708e-01  8.95621202e-02  1.29161640e-01\n",
      "   6.29682943e-01 -2.48729555e-01 -2.31738277e-01 -1.00379699e+00]\n",
      " [-7.51130558e-04  6.14180038e-01  2.11436234e-01  2.22470347e-01\n",
      "  -1.84192922e-01  7.54657708e-01  8.95621202e-02  1.29161640e-01\n",
      "   6.29682943e-01 -2.48729555e-01 -2.31738277e-01 -1.00379699e+00]\n",
      " [-7.51130558e-04  6.14180038e-01  2.11436234e-01  2.22470347e-01\n",
      "  -1.84192922e-01  7.54657708e-01  8.95621202e-02  1.29161640e-01\n",
      "   6.29682943e-01 -2.48729555e-01 -2.31738277e-01 -1.00379699e+00]\n",
      " [-7.51130580e-04  6.14180038e-01  2.11436234e-01  2.22470347e-01\n",
      "  -1.84192922e-01  7.54657708e-01  8.95621202e-02  1.29161640e-01\n",
      "   6.29682943e-01 -2.48729555e-01 -2.31738277e-01 -1.00379699e+00]\n",
      " [-7.51130547e-04  6.14180038e-01  2.11436234e-01  2.22470347e-01\n",
      "  -1.84192922e-01  7.54657708e-01  8.95621202e-02  1.29161640e-01\n",
      "   6.29682943e-01 -2.48729555e-01 -2.31738277e-01 -1.00379699e+00]]\n"
     ]
    }
   ],
   "source": [
    "points = np.linspace(-1, 1, 10*12).reshape([10, 12])\n",
    "linear = Linear(12, 5)\n",
    "f = lambda x: linear.forward(x, mode='train').sum(axis=1).sum()\n",
    "res = f(points)\n",
    "numeric_grads = eval_numerical_gradient(f, points)\n",
    "print(numeric_grads)\n",
    "inp_grad = np.ones(shape=(10, 5))\n",
    "grads = linear.backward(inp_grad, mode='train')[0]\n",
    "assert np.allclose(grads, numeric_grads, rtol=1e-3, atol=0)"
   ]
  },
  {
   "cell_type": "code",
   "execution_count": 9,
   "metadata": {
    "id": "Iz8ZiCXMqhp0"
   },
   "outputs": [],
   "source": [
    "class CrossEntropyLoss(object):\n",
    "    def forward(self, X, y):\n",
    "        # y can only be 1 or 0\n",
    "        self.m = y.shape[0]\n",
    "        self.p = softmax(X)\n",
    "        # -log(p_true)\n",
    "        cross_entropy = -np.log(self.p[range(self.m), y])\n",
    "        loss = np.sum(cross_entropy) / self.m\n",
    "        return loss\n",
    "\n",
    "    def backward(self, X, y):\n",
    "        dx = self.p.copy()\n",
    "        dx[range(self.m), y] -= 1\n",
    "        dx /= self.m\n",
    "        return dx"
   ]
  },
  {
   "cell_type": "markdown",
   "metadata": {
    "id": "pPOGFjZuqhp2"
   },
   "source": [
    "## NN implementation"
   ]
  },
  {
   "cell_type": "code",
   "execution_count": 10,
   "metadata": {
    "id": "LYkYJWpuqhp4"
   },
   "outputs": [],
   "source": [
    "class NN:\n",
    "    def __init__(self, loss_func=CrossEntropyLoss(), mode = 'train'):\n",
    "        self.layers = []\n",
    "        self.params = []\n",
    "        self.loss_func = loss_func\n",
    "        self.grads = []\n",
    "        self.mode = mode\n",
    "\n",
    "    def add_layer(self, layer):\n",
    "        self.layers.append(layer)\n",
    "        self.params.append(layer.params)\n",
    "\n",
    "    def forward(self, X):\n",
    "        for layer in self.layers:\n",
    "            X = layer.forward(X, self.mode)\n",
    "        return X\n",
    "\n",
    "    def backward(self, dout):\n",
    "        self.clear_grad_param()\n",
    "        for layer in reversed(self.layers):\n",
    "            dout, grad = layer.backward(dout, self.mode)\n",
    "            self.grads.append(grad)\n",
    "        return self.grads\n",
    "\n",
    "    def train_step(self, X, y):\n",
    "        out = self.forward(X)\n",
    "        loss = self.loss_func.forward(out, y)\n",
    "        dout = self.loss_func.backward(out, y)\n",
    "        loss += l2_reg(self.layers)\n",
    "        grads = self.backward(dout)\n",
    "        grads = delta_l2_reg(self.layers, grads)\n",
    "        return loss, grads\n",
    "\n",
    "    def predict(self, X):\n",
    "        X = self.forward(X)\n",
    "        return np.argmax(softmax(X), axis=1)\n",
    "\n",
    "    def dispGradParam():\n",
    "        print(self.grads)\n",
    "    \n",
    "    def clear_grad_param(self):\n",
    "        self.grads = []"
   ]
  },
  {
   "cell_type": "code",
   "execution_count": 11,
   "metadata": {
    "id": "4JyB2D61qhp6"
   },
   "outputs": [],
   "source": [
    "# SGD with momentum\n",
    "def update(velocity, params, grads, learning_rate=0.001, mu=0.9):\n",
    "    for v, p, g, in zip(velocity, params, reversed(grads)):\n",
    "        for i in range(len(g)):\n",
    "            v[i] = mu * v[i] + learning_rate * g[i]\n",
    "            p[i] -= v[i]\n",
    "\n",
    "# get minibatches\n",
    "def minibatch(X, y, minibatch_size):\n",
    "    n = X.shape[0]\n",
    "    minibatches = []\n",
    "    X, y = shuffle(X, y)\n",
    "\n",
    "    for i in range(0, n , minibatch_size):\n",
    "        X_batch = X[i:i + minibatch_size, ...]\n",
    "        y_batch = y[i:i + minibatch_size, ...]\n",
    "\n",
    "        minibatches.append((X_batch, y_batch))\n",
    "    return minibatches"
   ]
  },
  {
   "cell_type": "code",
   "execution_count": 12,
   "metadata": {
    "id": "pOfONQ0AqhqA"
   },
   "outputs": [],
   "source": [
    "def train(net, X_train, y_train, minibatch_size, epoch, learning_rate, mu=0.9,\n",
    "          verbose=True, X_val=None, y_val=None, nesterov=True):\n",
    "    val_loss_epoch = []\n",
    "    minibatches = minibatch(X_train, y_train, minibatch_size)\n",
    "    minibatches_val = minibatch(X_val, y_val, minibatch_size)\n",
    "\n",
    "    c = 0 \n",
    "    for i in range(epoch):\n",
    "        loss_batch = []\n",
    "        val_loss_batch = []\n",
    "        velocity = []\n",
    "        for param_layer in net.params:\n",
    "            p = [np.zeros_like(param) for param in list(param_layer)]\n",
    "            velocity.append(p)\n",
    "\n",
    "        if verbose:\n",
    "            print(\"Epoch {0}\".format(i + 1))\n",
    "\n",
    "        # iterate over mini batches\n",
    "        # for X_mini, y_mini in tqdm(minibatches):\n",
    "        for X_mini, y_mini in minibatches:\n",
    "            loss, grads = net.train_step(X_mini, y_mini)\n",
    "            loss_batch.append(loss)\n",
    "            update(velocity, net.params, grads,\n",
    "                            learning_rate=learning_rate, mu=mu)\n",
    "\n",
    "        # for X_mini_val, y_mini_val in tqdm(minibatches_val):\n",
    "        for X_mini_val, y_mini_val in minibatches_val:\n",
    "            # валидация, можно сделать просто форвард\n",
    "            val_loss, _ = net.train_step(X_mini, y_mini)\n",
    "            val_loss_batch.append(val_loss)\n",
    "\n",
    "        # accuracy of model at end of epoch after all mini batch updates   \n",
    "        if verbose:\n",
    "            m_train = X_train.shape[0]\n",
    "            m_val = X_val.shape[0]\n",
    "            y_train_pred = np.array([], dtype=\"int64\")\n",
    "            y_val_pred = np.array([], dtype=\"int64\")\n",
    "\n",
    "            for i in range(0, m_train, minibatch_size):\n",
    "                X_tr = X_train[i:i + minibatch_size, : ]\n",
    "                y_tr = y_train[i:i + minibatch_size, ]\n",
    "                y_train_pred = np.append(y_train_pred, net.predict(X_tr))\n",
    "\n",
    "            for i in range(0, m_val, minibatch_size):\n",
    "                X_va = X_val[i:i + minibatch_size, : ]\n",
    "                y_va = y_val[i:i + minibatch_size, ]\n",
    "                y_val_pred = np.append(y_val_pred, net.predict(X_va))\n",
    "\n",
    "            train_acc = check_accuracy(y_train, y_train_pred)\n",
    "            val_acc = check_accuracy(y_val, y_val_pred)\n",
    "\n",
    "            mean_train_loss = sum(loss_batch) / float(len(loss_batch))\n",
    "            mean_val_loss = sum(val_loss_batch) / float(len(val_loss_batch))\n",
    "\n",
    "            # early stopping with patience = 5 on val loss\n",
    "            if len(val_loss_epoch) == 0:\n",
    "                val_loss_epoch.append(mean_val_loss)\n",
    "            else:\n",
    "                for j in val_loss_epoch[-5:]:\n",
    "                    if mean_val_loss > j:\n",
    "                        c += 1\n",
    "                    else:\n",
    "                        c = 0\n",
    "                if c > 5:\n",
    "                    print('Early stopping')\n",
    "                    return net\n",
    "                else:\n",
    "                    c = 0\n",
    "                    val_loss_epoch.append(mean_val_loss)    \n",
    "\n",
    "            print(\"Loss = {0} | Training Accuracy = {1} | \" \\\n",
    "                  \"Val Loss = {2} | Val Accuracy = {3}\".format(\n",
    "                mean_train_loss, train_acc, mean_val_loss, val_acc))\n",
    "    return net"
   ]
  },
  {
   "cell_type": "code",
   "execution_count": 13,
   "metadata": {
    "colab": {
     "base_uri": "https://localhost:8080/"
    },
    "id": "Fad8x1_IqhqB",
    "outputId": "5e1e620b-8bcb-4076-8b1e-f401c5d7db24",
    "scrolled": true
   },
   "outputs": [
    {
     "name": "stdout",
     "output_type": "stream",
     "text": [
      "(4, 4)\n",
      "(4, 4)\n",
      "Epoch 1\n",
      "Loss = 0.7959107968358331 | Training Accuracy = 0.5 | Val Loss = 0.6946165950029364 | Val Accuracy = 0.5\n",
      "Epoch 2\n",
      "Loss = 0.6946165950029364 | Training Accuracy = 0.5 | Val Loss = 0.6870352521997738 | Val Accuracy = 0.5\n",
      "Epoch 3\n",
      "Loss = 0.6870352521997738 | Training Accuracy = 0.5 | Val Loss = 0.6835600640754544 | Val Accuracy = 0.5\n",
      "Epoch 4\n",
      "Loss = 0.6835600640754544 | Training Accuracy = 0.5 | Val Loss = 0.6807154117016951 | Val Accuracy = 0.5\n",
      "Epoch 5\n",
      "Loss = 0.6807154117016951 | Training Accuracy = 0.5 | Val Loss = 0.6782148086215168 | Val Accuracy = 0.5\n",
      "Epoch 6\n",
      "Loss = 0.6782148086215168 | Training Accuracy = 0.5 | Val Loss = 0.675986346354122 | Val Accuracy = 0.5\n",
      "Epoch 7\n",
      "Loss = 0.675986346354122 | Training Accuracy = 0.5 | Val Loss = 0.673924271067078 | Val Accuracy = 0.5\n",
      "Epoch 8\n",
      "Loss = 0.673924271067078 | Training Accuracy = 0.5 | Val Loss = 0.671963404668465 | Val Accuracy = 0.5\n",
      "Epoch 9\n",
      "Loss = 0.671963404668465 | Training Accuracy = 0.5 | Val Loss = 0.6700804379570554 | Val Accuracy = 0.5\n",
      "Epoch 10\n",
      "Loss = 0.6700804379570554 | Training Accuracy = 0.5 | Val Loss = 0.6682573273429206 | Val Accuracy = 0.5\n",
      "Epoch 11\n",
      "Loss = 0.6682573273429206 | Training Accuracy = 0.5 | Val Loss = 0.6664807073323934 | Val Accuracy = 0.5\n",
      "Epoch 12\n",
      "Loss = 0.6664807073323934 | Training Accuracy = 0.5 | Val Loss = 0.6647402098541031 | Val Accuracy = 0.5\n",
      "Epoch 13\n",
      "Loss = 0.6647402098541031 | Training Accuracy = 0.5 | Val Loss = 0.6630548740718495 | Val Accuracy = 0.5\n",
      "Epoch 14\n",
      "Loss = 0.6630548740718495 | Training Accuracy = 0.5 | Val Loss = 0.6613869394421716 | Val Accuracy = 0.5\n",
      "Epoch 15\n",
      "Loss = 0.6613869394421716 | Training Accuracy = 0.5 | Val Loss = 0.6597113428010671 | Val Accuracy = 0.5\n",
      "Epoch 16\n",
      "Loss = 0.6597113428010671 | Training Accuracy = 0.5 | Val Loss = 0.658050569902964 | Val Accuracy = 0.5\n",
      "Epoch 17\n",
      "Loss = 0.658050569902964 | Training Accuracy = 0.5 | Val Loss = 0.6563890656520571 | Val Accuracy = 0.5\n",
      "Epoch 18\n",
      "Loss = 0.6563890656520571 | Training Accuracy = 0.5 | Val Loss = 0.6547370614503052 | Val Accuracy = 0.5\n",
      "Epoch 19\n",
      "Loss = 0.6547370614503052 | Training Accuracy = 0.5 | Val Loss = 0.6530991340458764 | Val Accuracy = 0.5\n",
      "Epoch 20\n",
      "Loss = 0.6530991340458764 | Training Accuracy = 0.5 | Val Loss = 0.6514571481497479 | Val Accuracy = 0.5\n",
      "Epoch 21\n",
      "Loss = 0.6514571481497479 | Training Accuracy = 0.5 | Val Loss = 0.649815192888267 | Val Accuracy = 0.5\n",
      "Epoch 22\n",
      "Loss = 0.649815192888267 | Training Accuracy = 0.5 | Val Loss = 0.6479612877495518 | Val Accuracy = 0.5\n",
      "Epoch 23\n",
      "Loss = 0.6479612877495518 | Training Accuracy = 0.5 | Val Loss = 0.6462764641069514 | Val Accuracy = 0.5\n",
      "Epoch 24\n",
      "Loss = 0.6462764641069514 | Training Accuracy = 0.5 | Val Loss = 0.644605817884788 | Val Accuracy = 0.5\n",
      "Epoch 25\n",
      "Loss = 0.644605817884788 | Training Accuracy = 0.5 | Val Loss = 0.6429355985149778 | Val Accuracy = 0.5\n",
      "Epoch 26\n",
      "Loss = 0.6429355985149778 | Training Accuracy = 0.5 | Val Loss = 0.6412728596544504 | Val Accuracy = 0.5\n",
      "Epoch 27\n",
      "Loss = 0.6412728596544504 | Training Accuracy = 0.5 | Val Loss = 0.6395986264645269 | Val Accuracy = 0.5\n",
      "Epoch 28\n",
      "Loss = 0.6395986264645269 | Training Accuracy = 0.5 | Val Loss = 0.6379398150580076 | Val Accuracy = 0.5\n",
      "Epoch 29\n",
      "Loss = 0.6379398150580076 | Training Accuracy = 0.5 | Val Loss = 0.6362650362940144 | Val Accuracy = 0.5\n",
      "Epoch 30\n",
      "Loss = 0.6362650362940144 | Training Accuracy = 0.5 | Val Loss = 0.634576375713697 | Val Accuracy = 0.5\n",
      "Epoch 31\n",
      "Loss = 0.634576375713697 | Training Accuracy = 0.5 | Val Loss = 0.6328907570608613 | Val Accuracy = 0.5\n",
      "Epoch 32\n",
      "Loss = 0.6328907570608613 | Training Accuracy = 0.5 | Val Loss = 0.6312017222753387 | Val Accuracy = 0.5\n",
      "Epoch 33\n",
      "Loss = 0.6312017222753387 | Training Accuracy = 0.5 | Val Loss = 0.6295088492011831 | Val Accuracy = 0.5\n",
      "Epoch 34\n",
      "Loss = 0.6295088492011831 | Training Accuracy = 0.5 | Val Loss = 0.6278117673838259 | Val Accuracy = 0.5\n",
      "Epoch 35\n",
      "Loss = 0.6278117673838259 | Training Accuracy = 0.5 | Val Loss = 0.6261101298077457 | Val Accuracy = 0.5\n",
      "Epoch 36\n",
      "Loss = 0.6261101298077457 | Training Accuracy = 0.5 | Val Loss = 0.6244036071173559 | Val Accuracy = 0.5\n",
      "Epoch 37\n",
      "Loss = 0.6244036071173559 | Training Accuracy = 0.5 | Val Loss = 0.6226918836735857 | Val Accuracy = 0.5\n",
      "Epoch 38\n",
      "Loss = 0.6226918836735857 | Training Accuracy = 0.5 | Val Loss = 0.6209746544450695 | Val Accuracy = 0.5\n",
      "Epoch 39\n",
      "Loss = 0.6209746544450695 | Training Accuracy = 0.5 | Val Loss = 0.6192516225391942 | Val Accuracy = 0.5\n",
      "Epoch 40\n",
      "Loss = 0.6192516225391942 | Training Accuracy = 0.5 | Val Loss = 0.6175224972385449 | Val Accuracy = 0.5\n",
      "Epoch 41\n",
      "Loss = 0.6175224972385449 | Training Accuracy = 0.5 | Val Loss = 0.615786992436698 | Val Accuracy = 0.5\n",
      "Epoch 42\n",
      "Loss = 0.615786992436698 | Training Accuracy = 0.5 | Val Loss = 0.6140448253896051 | Val Accuracy = 0.5\n",
      "Epoch 43\n",
      "Loss = 0.6140448253896051 | Training Accuracy = 0.5 | Val Loss = 0.6122957157165025 | Val Accuracy = 0.5\n",
      "Epoch 44\n",
      "Loss = 0.6122957157165025 | Training Accuracy = 0.5 | Val Loss = 0.6105393845982602 | Val Accuracy = 0.5\n",
      "Epoch 45\n",
      "Loss = 0.6105393845982602 | Training Accuracy = 0.5 | Val Loss = 0.6087755541321258 | Val Accuracy = 0.5\n",
      "Epoch 46\n",
      "Loss = 0.6087755541321258 | Training Accuracy = 0.5 | Val Loss = 0.6070043639828396 | Val Accuracy = 0.5\n",
      "Epoch 47\n",
      "Loss = 0.6070043639828396 | Training Accuracy = 0.5 | Val Loss = 0.6052256753708769 | Val Accuracy = 0.5\n",
      "Epoch 48\n",
      "Loss = 0.6052256753708769 | Training Accuracy = 0.5 | Val Loss = 0.6034375171243166 | Val Accuracy = 0.5\n",
      "Epoch 49\n",
      "Loss = 0.6034375171243166 | Training Accuracy = 0.5 | Val Loss = 0.6016413364254828 | Val Accuracy = 0.5\n",
      "Epoch 50\n",
      "Loss = 0.6016413364254828 | Training Accuracy = 0.5 | Val Loss = 0.5998487027584387 | Val Accuracy = 0.5\n",
      "Epoch 51\n",
      "Loss = 0.5998487027584387 | Training Accuracy = 0.5 | Val Loss = 0.598028768170882 | Val Accuracy = 0.5\n",
      "Epoch 52\n",
      "Loss = 0.598028768170882 | Training Accuracy = 0.5 | Val Loss = 0.5961976546772088 | Val Accuracy = 0.5\n",
      "Epoch 53\n",
      "Loss = 0.5961976546772088 | Training Accuracy = 0.5 | Val Loss = 0.5943622460189079 | Val Accuracy = 0.5\n",
      "Epoch 54\n",
      "Loss = 0.5943622460189079 | Training Accuracy = 0.5 | Val Loss = 0.592516926957145 | Val Accuracy = 0.5\n",
      "Epoch 55\n",
      "Loss = 0.592516926957145 | Training Accuracy = 0.5 | Val Loss = 0.5906613436581181 | Val Accuracy = 0.5\n",
      "Epoch 56\n",
      "Loss = 0.5906613436581181 | Training Accuracy = 0.5 | Val Loss = 0.5887951922909478 | Val Accuracy = 0.5\n",
      "Epoch 57\n",
      "Loss = 0.5887951922909478 | Training Accuracy = 0.5 | Val Loss = 0.5869181711255208 | Val Accuracy = 0.5\n",
      "Epoch 58\n",
      "Loss = 0.5869181711255208 | Training Accuracy = 0.5 | Val Loss = 0.5850299793991158 | Val Accuracy = 0.5\n",
      "Epoch 59\n",
      "Loss = 0.5850299793991158 | Training Accuracy = 0.5 | Val Loss = 0.5831303166691589 | Val Accuracy = 0.5\n",
      "Epoch 60\n",
      "Loss = 0.5831303166691589 | Training Accuracy = 0.5 | Val Loss = 0.5812188823133112 | Val Accuracy = 0.5\n",
      "Epoch 61\n",
      "Loss = 0.5812188823133112 | Training Accuracy = 0.5 | Val Loss = 0.5792953751494455 | Val Accuracy = 0.5\n",
      "Epoch 62\n",
      "Loss = 0.5792953751494455 | Training Accuracy = 0.5 | Val Loss = 0.5773594931508577 | Val Accuracy = 0.5\n",
      "Epoch 63\n",
      "Loss = 0.5773594931508577 | Training Accuracy = 0.5 | Val Loss = 0.5754109332371579 | Val Accuracy = 0.5\n",
      "Epoch 64\n",
      "Loss = 0.5754109332371579 | Training Accuracy = 0.5 | Val Loss = 0.5734493911257189 | Val Accuracy = 0.5\n",
      "Epoch 65\n",
      "Loss = 0.5734493911257189 | Training Accuracy = 0.5 | Val Loss = 0.5714749445663888 | Val Accuracy = 0.5\n",
      "Epoch 66\n",
      "Loss = 0.5714749445663888 | Training Accuracy = 0.5 | Val Loss = 0.5694884361195653 | Val Accuracy = 0.5\n",
      "Epoch 67\n",
      "Loss = 0.5694884361195653 | Training Accuracy = 0.5 | Val Loss = 0.5674879907552299 | Val Accuracy = 0.5\n",
      "Epoch 68\n",
      "Loss = 0.5674879907552299 | Training Accuracy = 0.5 | Val Loss = 0.5654904429245752 | Val Accuracy = 0.5\n",
      "Epoch 69\n",
      "Loss = 0.5654904429245752 | Training Accuracy = 0.5 | Val Loss = 0.5634552139848077 | Val Accuracy = 0.5\n",
      "Epoch 70\n",
      "Loss = 0.5634552139848077 | Training Accuracy = 0.5 | Val Loss = 0.5614066488773939 | Val Accuracy = 0.5\n",
      "Epoch 71\n",
      "Loss = 0.5614066488773939 | Training Accuracy = 0.5 | Val Loss = 0.559346100369096 | Val Accuracy = 0.5\n",
      "Epoch 72\n",
      "Loss = 0.559346100369096 | Training Accuracy = 0.5 | Val Loss = 0.5572701149017684 | Val Accuracy = 0.5\n",
      "Epoch 73\n",
      "Loss = 0.5572701149017684 | Training Accuracy = 0.5 | Val Loss = 0.5551783680761242 | Val Accuracy = 0.5\n",
      "Epoch 74\n",
      "Loss = 0.5551783680761242 | Training Accuracy = 0.5 | Val Loss = 0.5530705404495216 | Val Accuracy = 0.5\n",
      "Epoch 75\n",
      "Loss = 0.5530705404495216 | Training Accuracy = 0.5 | Val Loss = 0.550946312535001 | Val Accuracy = 0.5\n",
      "Epoch 76\n",
      "Loss = 0.550946312535001 | Training Accuracy = 0.5 | Val Loss = 0.5488053646763049 | Val Accuracy = 0.5\n",
      "Epoch 77\n",
      "Loss = 0.5488053646763049 | Training Accuracy = 0.5 | Val Loss = 0.5466473770834537 | Val Accuracy = 0.5\n",
      "Epoch 78\n",
      "Loss = 0.5466473770834537 | Training Accuracy = 0.5 | Val Loss = 0.5444720299125014 | Val Accuracy = 0.5\n",
      "Epoch 79\n",
      "Loss = 0.5444720299125014 | Training Accuracy = 0.5 | Val Loss = 0.5422790033870794 | Val Accuracy = 0.5\n",
      "Epoch 80\n",
      "Loss = 0.5422790033870794 | Training Accuracy = 0.5 | Val Loss = 0.5400679779551824 | Val Accuracy = 0.5\n",
      "Epoch 81\n",
      "Loss = 0.5400679779551824 | Training Accuracy = 0.5 | Val Loss = 0.5378386344768515 | Val Accuracy = 0.5\n",
      "Epoch 82\n",
      "Loss = 0.5378386344768515 | Training Accuracy = 0.5 | Val Loss = 0.535590654439638 | Val Accuracy = 0.5\n",
      "Epoch 83\n",
      "Loss = 0.535590654439638 | Training Accuracy = 0.5 | Val Loss = 0.5333237201996928 | Val Accuracy = 0.5\n",
      "Epoch 84\n",
      "Loss = 0.5333237201996928 | Training Accuracy = 0.5 | Val Loss = 0.5310375152470619 | Val Accuracy = 0.5\n",
      "Epoch 85\n",
      "Loss = 0.5310375152470619 | Training Accuracy = 0.5 | Val Loss = 0.5287317244943113 | Val Accuracy = 0.5\n",
      "Epoch 86\n",
      "Loss = 0.5287317244943113 | Training Accuracy = 1.0 | Val Loss = 0.5264060345880192 | Val Accuracy = 1.0\n",
      "Epoch 87\n",
      "Loss = 0.5264060345880192 | Training Accuracy = 1.0 | Val Loss = 0.5240601342429818 | Val Accuracy = 1.0\n",
      "Epoch 88\n",
      "Loss = 0.5240601342429818 | Training Accuracy = 1.0 | Val Loss = 0.5216937145992085 | Val Accuracy = 1.0\n",
      "Epoch 89\n",
      "Loss = 0.5216937145992085 | Training Accuracy = 1.0 | Val Loss = 0.5193064696019507 | Val Accuracy = 1.0\n",
      "Epoch 90\n",
      "Loss = 0.5193064696019507 | Training Accuracy = 1.0 | Val Loss = 0.5168980964051351 | Val Accuracy = 1.0\n",
      "Epoch 91\n",
      "Loss = 0.5168980964051351 | Training Accuracy = 1.0 | Val Loss = 0.5144682957986588 | Val Accuracy = 1.0\n",
      "Epoch 92\n",
      "Loss = 0.5144682957986588 | Training Accuracy = 1.0 | Val Loss = 0.5120179618975129 | Val Accuracy = 1.0\n",
      "Epoch 93\n",
      "Loss = 0.5120179618975129 | Training Accuracy = 1.0 | Val Loss = 0.5095480101702387 | Val Accuracy = 1.0\n",
      "Epoch 94\n",
      "Loss = 0.5095480101702387 | Training Accuracy = 1.0 | Val Loss = 0.507059237854074 | Val Accuracy = 1.0\n",
      "Epoch 95\n",
      "Loss = 0.507059237854074 | Training Accuracy = 1.0 | Val Loss = 0.504543179731481 | Val Accuracy = 1.0\n",
      "Epoch 96\n",
      "Loss = 0.504543179731481 | Training Accuracy = 1.0 | Val Loss = 0.5020008749976969 | Val Accuracy = 1.0\n",
      "Epoch 97\n",
      "Loss = 0.5020008749976969 | Training Accuracy = 1.0 | Val Loss = 0.49943506763013445 | Val Accuracy = 1.0\n",
      "Epoch 98\n",
      "Loss = 0.49943506763013445 | Training Accuracy = 1.0 | Val Loss = 0.49664194228909647 | Val Accuracy = 1.0\n",
      "Epoch 99\n",
      "Loss = 0.49664194228909647 | Training Accuracy = 1.0 | Val Loss = 0.4940289231110272 | Val Accuracy = 1.0\n",
      "Epoch 100\n",
      "Loss = 0.4940289231110272 | Training Accuracy = 1.0 | Val Loss = 0.49154741749216885 | Val Accuracy = 1.0\n"
     ]
    }
   ],
   "source": [
    "# Get preprocessed training and validation data\n",
    "\n",
    "X_train = np.array([\n",
    "    [1, 2, 1, 2],\n",
    "    [2, 4, 2, 4],\n",
    "    [2, 1, 2, 1],\n",
    "    [4, 2, 4, 2],\n",
    "])\n",
    "\n",
    "y_train = np.array([0, 1, 0, 1])\n",
    "X_val = X_train.copy()\n",
    "y_val = y_train.copy()\n",
    "\n",
    "print(X_train.shape)\n",
    "print(X_val.shape)\n",
    "\n",
    "# define neural net\n",
    "model = NN()\n",
    "\n",
    "# add some layers\n",
    "model.add_layer(Linear(4, 100))\n",
    "model.add_layer(ReLU())\n",
    "model.add_layer(Linear(100, 100))\n",
    "model.add_layer(ReLU())\n",
    "model.add_layer(Linear(100, 2))\n",
    "\n",
    "model = train(model, X_train , y_train, minibatch_size=4, epoch=100,\n",
    "           learning_rate=0.1, X_val=X_val, y_val=y_val)"
   ]
  },
  {
   "cell_type": "markdown",
   "metadata": {
    "id": "nasalrYhqhqC"
   },
   "source": [
    "## Mnist training"
   ]
  },
  {
   "cell_type": "code",
   "execution_count": 14,
   "metadata": {
    "id": "GBnh0t5wqhqD"
   },
   "outputs": [],
   "source": [
    "from sklearn.datasets import fetch_openml\n",
    "from sklearn.model_selection import train_test_split"
   ]
  },
  {
   "cell_type": "code",
   "execution_count": 15,
   "metadata": {
    "id": "b5WLrrZbqhqE"
   },
   "outputs": [],
   "source": [
    "X, y = fetch_openml('mnist_784', version=1, return_X_y=True)"
   ]
  },
  {
   "cell_type": "code",
   "execution_count": 16,
   "metadata": {
    "id": "0W1H-iRHqhqF"
   },
   "outputs": [],
   "source": [
    "y = y.astype(np.int32)\n",
    "X_train, X_val, y_train, y_val = train_test_split(X, y, \n",
    "                                                  test_size=0.25,\n",
    "                                                  shuffle=True,\n",
    "                                                  random_state=0)"
   ]
  },
  {
   "cell_type": "code",
   "execution_count": 18,
   "metadata": {
    "id": "Nb7XAVXnqhqG"
   },
   "outputs": [],
   "source": [
    "import matplotlib.pyplot as plt\n",
    "%matplotlib inline"
   ]
  },
  {
   "cell_type": "code",
   "execution_count": 19,
   "metadata": {
    "colab": {
     "base_uri": "https://localhost:8080/",
     "height": 264
    },
    "id": "87iNgx8uqhqH",
    "outputId": "8c47f275-3d21-46d9-ddb9-39448ea2ecfc"
   },
   "outputs": [
    {
     "data": {
      "image/png": "[encoded data removed]",
      "text/plain": [
       "<Figure size 432x288 with 1 Axes>"
      ]
     },
     "metadata": {
      "needs_background": "light"
     },
     "output_type": "display_data"
    }
   ],
   "source": [
    "# visualize data\n",
    "def vis(img, label):\n",
    "    plt.imshow(img, cmap='gray')\n",
    "    plt.title(label)\n",
    "    plt.axis('off')\n",
    "    plt.show()\n",
    "\n",
    "vis_idx = 0\n",
    "vis(X_train[vis_idx].reshape(-1, 28), y_train[vis_idx])"
   ]
  },
  {
   "cell_type": "code",
   "execution_count": 20,
   "metadata": {
    "colab": {
     "base_uri": "https://localhost:8080/"
    },
    "id": "JFUz9i2qqhqJ",
    "outputId": "6c2fc05d-7db7-4091-c267-6e30cfc6a087"
   },
   "outputs": [
    {
     "name": "stdout",
     "output_type": "stream",
     "text": [
      "(52500, 784)\n",
      "(17500, 784)\n",
      "Epoch 1\n",
      "Loss = 1.0217574101943865 | Training Accuracy = 0.9141714285714285 | Val Loss = 0.22804140677344528 | Val Accuracy = 0.9050857142857143\n",
      "Epoch 2\n",
      "Loss = 0.33443694735053436 | Training Accuracy = 0.9350666666666667 | Val Loss = 0.2416318797769541 | Val Accuracy = 0.9258285714285714\n",
      "Epoch 3\n",
      "Loss = 0.2837600135772083 | Training Accuracy = 0.9448761904761904 | Val Loss = 0.30293059231717484 | Val Accuracy = 0.9326857142857143\n",
      "Epoch 4\n",
      "Loss = 0.2575712480143273 | Training Accuracy = 0.9491238095238095 | Val Loss = 0.3030371171636381 | Val Accuracy = 0.9369714285714286\n",
      "Epoch 5\n",
      "Loss = 0.23762706126592784 | Training Accuracy = 0.9548761904761904 | Val Loss = 0.25639394172039 | Val Accuracy = 0.9412571428571429\n",
      "Epoch 6\n",
      "Loss = 0.22322566955060824 | Training Accuracy = 0.9591047619047619 | Val Loss = 0.2573845947720768 | Val Accuracy = 0.9438285714285715\n",
      "Epoch 7\n",
      "Loss = 0.21071704601441113 | Training Accuracy = 0.9618857142857142 | Val Loss = 0.2368416190839533 | Val Accuracy = 0.9450857142857143\n",
      "Epoch 8\n",
      "Loss = 0.20146578739344137 | Training Accuracy = 0.9657714285714286 | Val Loss = 0.1942310132016754 | Val Accuracy = 0.9484\n",
      "Epoch 9\n",
      "Loss = 0.19317937008068498 | Training Accuracy = 0.968 | Val Loss = 0.15954249796759715 | Val Accuracy = 0.9488\n",
      "Epoch 10\n",
      "Loss = 0.1860841127647368 | Training Accuracy = 0.9696571428571429 | Val Loss = 0.14794350445081036 | Val Accuracy = 0.9490857142857143\n"
     ]
    }
   ],
   "source": [
    "print(X_train.shape)\n",
    "print(X_val.shape)\n",
    "\n",
    "# define neural net\n",
    "model = NN()\n",
    "\n",
    "# add some layers\n",
    "model.add_layer(Linear(X_train.shape[1], 100))\n",
    "model.add_layer(ReLU())\n",
    "model.add_layer(Linear(100, 100))\n",
    "model.add_layer(ReLU())\n",
    "model.add_layer(Linear(100, 10))\n",
    "\n",
    "model = train(model, X_train , y_train, minibatch_size=128, epoch=10,\n",
    "           learning_rate=0.001, X_val=X_val, y_val=y_val)"
   ]
  },
  {
   "cell_type": "code",
   "execution_count": 30,
   "metadata": {
    "colab": {
     "base_uri": "https://localhost:8080/",
     "height": 264
    },
    "id": "bPLSr2-CqhqL",
    "outputId": "d0da6bf4-11a2-4728-f019-96353e7093d3"
   },
   "outputs": [
    {
     "data": {
      "image/png": "[encoded data removed]",
      "text/plain": [
       "<Figure size 432x288 with 1 Axes>"
      ]
     },
     "metadata": {
      "needs_background": "light"
     },
     "output_type": "display_data"
    }
   ],
   "source": [
    "# visualize prediction \n",
    "vis_idx = 1\n",
    "pred = model.predict(X_val[vis_idx])\n",
    "vis(X_val[vis_idx].reshape(-1, 28), pred[0])"
   ]
  },
  {
   "cell_type": "code",
   "execution_count": 22,
   "metadata": {
    "colab": {
     "base_uri": "https://localhost:8080/",
     "height": 292
    },
    "id": "VODz-x2iakIr",
    "outputId": "44701fca-e6a0-44a8-fdb6-7d4eb49ee43e"
   },
   "outputs": [
    {
     "data": {
      "text/plain": [
       "<matplotlib.image.AxesImage at 0x7f1da44291f0>"
      ]
     },
     "execution_count": 22,
     "metadata": {},
     "output_type": "execute_result"
    },
    {
     "data": {
      "image/png": "[encoded data removed]",
      "text/plain": [
       "<Figure size 288x288 with 1 Axes>"
      ]
     },
     "metadata": {
      "needs_background": "light"
     },
     "output_type": "display_data"
    }
   ],
   "source": [
    "# visualize first layer mean weights\n",
    "t = model.layers[0].W.mean(axis=1).reshape(28, 28)\n",
    "plt.matshow(t)"
   ]
  }
 ],
 "metadata": {
  "colab": {
   "collapsed_sections": [],
   "name": "seminar2_task.ipynb",
   "provenance": []
  },
  "kernelspec": {
   "display_name": "Python 3",
   "language": "python",
   "name": "python3"
  },
  "language_info": {
   "codemirror_mode": {
    "name": "ipython",
    "version": 3
   },
   "file_extension": ".py",
   "mimetype": "text/x-python",
   "name": "python",
   "nbconvert_exporter": "python",
   "pygments_lexer": "ipython3",
   "version": "3.8.3"
  }
 },
 "nbformat": 4,
 "nbformat_minor": 1
}
